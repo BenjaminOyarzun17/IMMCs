{
 "cells": [
  {
   "cell_type": "code",
   "execution_count": 1,
   "metadata": {},
   "outputs": [],
   "source": [
    "import numpy as np\n",
    "import matplotlib as plt\n",
    "import pandas as pd\n",
    "from scipy.optimize import linprog\n",
    "import math\n",
    "import pulp\n",
    "from sympy.solvers.diophantine import diophantine\n",
    "from sympy import symbols\n",
    "import random\n",
    "import time\n"
   ]
  },
  {
   "cell_type": "markdown",
   "metadata": {},
   "source": [
    "# Tarifa con espacio entre vehículo observando a un único vehículo\n"
   ]
  },
  {
   "cell_type": "code",
   "execution_count": 4,
   "metadata": {},
   "outputs": [
    {
     "name": "stdout",
     "output_type": "stream",
     "text": [
      "22223\n",
      "9091\n",
      "50000\n",
      "28572\n"
     ]
    }
   ],
   "source": [
    "def f(m):\n",
    "    distanciaAumentada = m + 0.3\n",
    "    return 600000/(3*math.floor(52/distanciaAumentada))\n",
    "\n",
    "\n",
    "tarifaAuto = math.ceil(f(5))\n",
    "print(tarifaAuto)\n",
    "tarifaBus=math.ceil(f(12))\n",
    "print(tarifaBus)\n",
    "tarifaMinibus=math.ceil(f(7))\n",
    "print(tarifaMinibus)\n"
   ]
  },
  {
   "cell_type": "markdown",
   "metadata": {},
   "source": [
    "# Tarifa especial motos"
   ]
  },
  {
   "cell_type": "code",
   "execution_count": 9,
   "metadata": {},
   "outputs": [
    {
     "name": "stdout",
     "output_type": "stream",
     "text": [
      "3031\n"
     ]
    }
   ],
   "source": [
    "def g(m):\n",
    "    distanciaAumentada = m + 0.3\n",
    "    return 600000/(9*math.floor(52/distanciaAumentada))\n",
    "print(math.ceil(g(2)))\n",
    "tarifaMoto = g(2)\n"
   ]
  },
  {
   "cell_type": "code",
   "execution_count": 25,
   "metadata": {},
   "outputs": [
    {
     "name": "stdout",
     "output_type": "stream",
     "text": [
      "0\n",
      "195\n",
      "espacio ocupado: 533.952\n",
      "Entra en el ferry\n",
      "ganancia: 728200\n",
      "Sobra espacio\n",
      "None\n"
     ]
    }
   ],
   "source": [
    "class Mundo:\n",
    "    def __init__(self, autos,buses,minibuses, motos):\n",
    "        self.autos = autos*6\n",
    "        self.buses= buses*15\n",
    "        self.minibuses = minibuses*9\n",
    "        self.motos = motos\n",
    "\n",
    "\n",
    "objeto = Mundo(0,13,0,0)        \n",
    "\n",
    "print(objeto.autos)\n",
    "print(objeto.buses)\n",
    "\n",
    "def mundoEnMotos(autos,buses,minibuses):\n",
    "    if autos !=0:\n",
    "        return autos*6\n",
    "    if buses !=0:\n",
    "        return buses*15\n",
    "    if minibuses !=0:\n",
    "        return minibuses*9\n",
    "\n",
    "    \n",
    "mundoEnMotos(0,2,0)\n",
    "\n",
    "def gananciaTotal(autos,buses,motos,minibuses):\n",
    "    #return autos*18200+buses*46200+minibuses*27300+3100*motos\n",
    "    return autos*23000+buses*50000+minibuses*29000+3100*motos\n",
    "\n",
    "def superficieTotal(autos,buses,motos,minibuses):\n",
    "    superficieTotal = 546\n",
    "    print(\"espacio ocupado: \"+str(autos*6*2.457 + buses*15*2.475 + minibuses*9*2.475  + motos*2.475))\n",
    "    ocupado = autos*6*2.457 + buses*15*2.475 + minibuses*9*2.475  + motos*2.475 \n",
    "    if ocupado <superficieTotal and ocupado>530:\n",
    "        print(\"Entra en el ferry\")\n",
    "        print(\"ganancia: \"+str(gananciaTotal(autos,buses,motos,minibuses)))  \n",
    "    if autos*6*2.457 + buses*15*2.475 + minibuses*9*2.475  + motos*2.475 <superficieTotal:\n",
    "        print(\"Sobra espacio\")\n",
    "    else:\n",
    "        print(\"no entra en el ferry\")\n",
    "\n",
    "\n",
    "\n",
    "#print(superficieTotal(0,13,0,0))\n",
    "print(superficieTotal(6,7,12,7))\n"
   ]
  },
  {
   "cell_type": "code",
   "execution_count": 43,
   "metadata": {},
   "outputs": [
    {
     "data": {
      "text/plain": [
       "array([[ 15500, 217000, 136500,  91000],\n",
       "       [  6200,  86800,  54600,  36400],\n",
       "       [ 37200, 520800, 327600, 218400],\n",
       "       [ 21700, 303800, 191100, 127400]])"
      ]
     },
     "execution_count": 43,
     "metadata": {},
     "output_type": "execute_result"
    }
   ],
   "source": [
    "A = np.array([[5],[2],[12],[7]])\n",
    "B = np.array([3100,43400,27300,18200])\n",
    "\n",
    "A*B"
   ]
  },
  {
   "cell_type": "code",
   "execution_count": 12,
   "metadata": {},
   "outputs": [
    {
     "data": {
      "text/plain": [
       "array([4.04987157, 3.84908989, 8.22819457, 4.18773251])"
      ]
     },
     "execution_count": 12,
     "metadata": {},
     "output_type": "execute_result"
    }
   ],
   "source": [
    "obj = [-5,-2,-12,-7]#5x+2y+12z+7w <= 156\n",
    "lhs_ineq = [[5,2,12,7]]\n",
    "rhs_ineq = [156]   \n",
    "bnd = [(0, float(\"inf\")),(0, float(\"inf\")),(0, float(\"inf\")),(0, float(\"inf\"))]\n",
    "p  = linprog(c=obj, A_ub=lhs_ineq, b_ub=rhs_ineq, bounds=bnd)\n",
    "p.x\n"
   ]
  },
  {
   "cell_type": "code",
   "execution_count": 9,
   "metadata": {},
   "outputs": [
    {
     "data": {
      "text/plain": [
       "{(t_0, -5*t_0 + 2*t_1 + 156, 15*t_0 + t_1 + 6*t_2 - 312, -t_0 - t_1 - t_2)}"
      ]
     },
     "execution_count": 9,
     "metadata": {},
     "output_type": "execute_result"
    }
   ],
   "source": [
    "w, x, y, z = symbols(\"w, x, y, z\", integer=True)#ax+by+cz=k\n",
    "#diophantine(2*x + 3*y - 5)\n",
    "diophantine(5*x+2*y+12*z+7*w-156)"
   ]
  },
  {
   "cell_type": "code",
   "execution_count": 13,
   "metadata": {},
   "outputs": [
    {
     "name": "stderr",
     "output_type": "stream",
     "text": [
      "C:\\Users\\Cesar\\anaconda3\\lib\\site-packages\\pulp\\pulp.py:1195: UserWarning: Spaces are not permitted in the name. Converted to '_'\n",
      "  warnings.warn(\"Spaces are not permitted in the name. Converted to '_'\")\n"
     ]
    }
   ],
   "source": [
    "model = pulp.LpProblem(\"Profit maximising problem\", pulp.LpMaximize)\n",
    "x = pulp.LpVariable('x', lowBound=0, cat='Integer')\n",
    "y = pulp.LpVariable('y', lowBound=0, cat='Integer')\n",
    "z = pulp.LpVariable('z', lowBound=0, cat='Integer')\n",
    "w = pulp.LpVariable('w', lowBound=0, cat='Integer')\n",
    "model += 5 * x + 2 * y + 12*z + 7*w,  \"Profit\"\n",
    "\n",
    "# Constraints\n",
    "model += 5 * x + 2 * y + 12*z + 7*w <= 156\n"
   ]
  },
  {
   "cell_type": "code",
   "execution_count": 122,
   "metadata": {},
   "outputs": [
    {
     "name": "stdout",
     "output_type": "stream",
     "text": [
      "tarifa Auto --> $ 21000\n",
      "tarifa Moto --> $ 8400\n",
      "tarifa Bus --> $ 54600\n",
      "tarifa Minibus --> $ 33600\n",
      "longitud final: 153.0\n",
      "ferry lleno\n",
      "ganancia: 793800\n",
      "None\n",
      "----------\n",
      "52.0\n",
      "longitud final: 52.0\n",
      "columna llena\n",
      "ganancia: 655200\n",
      "None\n"
     ]
    }
   ],
   "source": [
    "METRO = 4200\n",
    "AUTO = 5\n",
    "MOTO = 2\n",
    "BUS = 13\n",
    "MINIBUS = 8\n",
    "COLUMNA = 52 \n",
    "METROSTOTALES = COLUMNA*3\n",
    "def obtenerSobrante(longitud):\n",
    "    return COLUMNA%longitud\n",
    "sobranteAuto, sobranteMoto, sobranteBus,sobranteMinibus = obtenerSobrante(AUTO),obtenerSobrante(MOTO),obtenerSobrante(BUS),obtenerSobrante(MINIBUS)\n",
    " \n",
    "def obtenerGanancia(sobrante):\n",
    "    return (METROSTOTALES - 3*sobrante)*4200\n",
    "\n",
    "def gananciaMoto(sobrante):\n",
    "    return (METROSTOTALES - 3*sobrante)*4200*3\n",
    "\n",
    "gananciaAuto, gananciaMoto, gananciaBus, gananciaMinibus = obtenerGanancia(sobranteAuto),gananciaMoto(sobranteMoto), obtenerGanancia(sobranteBus), obtenerGanancia(sobranteMinibus)\n",
    "\n",
    "def determinarTarifa(vehículo):\n",
    "    return vehículo*4200\n",
    "\n",
    "tarifas = dict({\"tarifa Auto\":determinarTarifa(AUTO), \"tarifa Moto\":determinarTarifa(MOTO),\"tarifa Bus\":determinarTarifa(BUS),\"tarifa Minibus\":determinarTarifa(MINIBUS)})\n",
    "for tarifa in tarifas:\n",
    "    print(tarifa, \"--> $\",tarifas[tarifa])\n",
    "    \n",
    "def obtenerGanancia(nAutos,nMotos,nBuses,nMinibuses):\n",
    "    ganancia = nAutos*tarifas[\"tarifa Auto\"] +nMotos*tarifas[\"tarifa Moto\"]+nBuses*tarifas[\"tarifa Bus\"]+ nMinibuses*tarifas[\"tarifa Minibus\"]\n",
    "    longitudTotal = nAutos*AUTO +nMotos*MOTO/3 +nBuses*BUS +nMinibuses*MINIBUS\n",
    "    \n",
    "    \n",
    "    if longitudTotal > METROSTOTALES:\n",
    "        diferencia = longitudTotal - METROSTOTALES\n",
    "        print(f\"no hay suficiente espacio. Diferencia: {diferencia} metros\")\n",
    "        print(f\"ganancia: {ganancia}\")\n",
    "    if longitudTotal <  METROSTOTALES and longitudTotal > 146:\n",
    "        print(f\"longitud final: {longitudTotal}\")\n",
    "        print(\"ferry lleno\")\n",
    "        print(f\"ganancia: {ganancia}\")\n",
    "    if longitudTotal <  METROSTOTALES and longitudTotal < 146:\n",
    "        print(f\"longitud final: {longitudTotal}\")\n",
    "        print(\"ferry sobra espacio\")\n",
    "        print(f\"ganancia: {ganancia}\")\n",
    "print(obtenerGanancia(6,27,5,5))\n",
    "\n",
    "def obtenerGananciaColumna(nAutos,nMotos,nBuses,nMinibuses):\n",
    "    ganancia = nAutos*tarifas[\"tarifa Auto\"] +nMotos*tarifas[\"tarifa Moto\"]+nBuses*tarifas[\"tarifa Bus\"]+ nMinibuses*tarifas[\"tarifa Minibus\"]\n",
    "    longitudTotal = nAutos*AUTO +nMotos*MOTO/3 +nBuses*BUS +nMinibuses*MINIBUS\n",
    "    print(longitudTotal)\n",
    "    if longitudTotal > COLUMNA:\n",
    "        diferencia = longitudTotal - COLUMNA\n",
    "        print(f\"no hay suficiente espacio. Diferencia: {diferencia} metros\")\n",
    "        print(f\"ganancia: {ganancia}\")\n",
    "    if longitudTotal <=  COLUMNA and longitudTotal >= 48:\n",
    "        print(f\"longitud final: {longitudTotal}\")\n",
    "        print(\"columna llena\")\n",
    "        print(f\"ganancia: {ganancia}\")\n",
    "    if longitudTotal <  COLUMNA and longitudTotal < 48:\n",
    "        print(f\"longitud final: {longitudTotal}\")\n",
    "        print(\"columna sobra espacio\")\n",
    "        print(f\"ganancia: {ganancia}\")\n",
    "print(\"----------\")     \n",
    "print(obtenerGananciaColumna(0,78,0,0))"
   ]
  },
  {
   "cell_type": "code",
   "execution_count": 12,
   "metadata": {},
   "outputs": [
    {
     "data": {
      "text/plain": [
       "     con: array([], dtype=float64)\n",
       "     fun: 600000.0000002631\n",
       " message: 'Optimization terminated successfully.'\n",
       "     nit: 4\n",
       "   slack: array([2.63098627e-07])\n",
       "  status: 0\n",
       " success: True\n",
       "       x: array([5.34551285, 5.45855789, 5.24329977, 5.29279512])"
      ]
     },
     "execution_count": 12,
     "metadata": {},
     "output_type": "execute_result"
    }
   ],
   "source": [
    "obj = [21000,8400,54600,29400]#4200x+4200y+4200z+4200w >= 600.000\n",
    "lhs_ineq = [[-21000,-8400,-54600,-29400]]\n",
    "rhs_ineq = [-600000]   \n",
    "bnd = [(5, float(\"inf\")),(5, float(\"inf\")),(5, float(\"inf\")),(5, float(\"inf\"))]\n",
    "p  = linprog(c=obj, A_ub=lhs_ineq, b_ub=rhs_ineq, bounds=bnd)\n",
    "p\n"
   ]
  },
  {
   "cell_type": "markdown",
   "metadata": {},
   "source": [
    "# Demostración para el primer modelo"
   ]
  },
  {
   "cell_type": "code",
   "execution_count": 15,
   "metadata": {
    "scrolled": true
   },
   "outputs": [
    {
     "name": "stdout",
     "output_type": "stream",
     "text": [
      "     con: array([], dtype=float64)\n",
      "     fun: 258173.54804331472\n",
      " message: 'The algorithm terminated successfully and determined that the problem is infeasible.'\n",
      "     nit: 5\n",
      "   slack: array([-8.51663529e+01,  9.51663529e+01,  3.41826452e+05])\n",
      "  status: 2\n",
      " success: False\n",
      "       x: array([7.7374154 , 0.22141285, 0.34102818, 2.23832791])\n",
      "7.737415398804495\n",
      "longitud final: 61.174675263247536\n",
      "ferry sobra espacio\n",
      "ganancia: 256933.63610563966\n",
      "None\n"
     ]
    }
   ],
   "source": [
    "obj = [-21000,-8400,-54600,-33600]\n",
    "\n",
    "#21000x+8400y+54600z+33600w =f(x,y,z,w), minimizar \n",
    "\n",
    "lhs_ineq = [[-5,-2/3,-13,-8],[5,2/3,13,8],[21000,8400,54600,33600]]\n",
    "\n",
    "\"\"\"\n",
    "-5x-2y-12z-7 <= -146 (5x+2y+12z+7w >= 146)\n",
    "5x+2y+12z+7w <= 156\n",
    "21000x+8400y+54600z+33600w <= 600.000\n",
    "--> estoy buscando solucion que cumpla con la longitud maxima y que cumpla de un precio \n",
    "    menor al minimo --> busco casos donde el sistema falle\n",
    "    --> si es que no da resultados, significa que NO HAY casos donde el sistema falle\n",
    "        --> por lo que siempre funcionara ! :D\n",
    "\"\"\"\n",
    "\n",
    "rhs_ineq = [-146,156,600000]   \n",
    "bnd = [(0, float(\"inf\")),(0, float(\"inf\")),(0, float(\"inf\")),(0, float(\"inf\"))]\n",
    "p  = linprog(c=obj, A_ub=lhs_ineq, b_ub=rhs_ineq, bounds=bnd)\n",
    "print(p)\n",
    "print(p.x[0])\n",
    "\n",
    "print(obtenerGanancia(p.x[0],p.x[1],p.x[2],p.x[3]))"
   ]
  },
  {
   "cell_type": "markdown",
   "metadata": {},
   "source": [
    "# Demostración para el primer modelo por columna"
   ]
  },
  {
   "cell_type": "code",
   "execution_count": 124,
   "metadata": {},
   "outputs": [
    {
     "name": "stdout",
     "output_type": "stream",
     "text": [
      "     con: array([], dtype=float64)\n",
      "     fun: -141618.69562830936\n",
      " message: 'The algorithm terminated successfully and determined that the problem is infeasible.'\n",
      "     nit: 11\n",
      "   slack: array([-1.43947827e+01,  1.83947827e+01,  5.83813044e+04])\n",
      "  status: 2\n",
      " success: False\n",
      "       x: array([1.19033072, 0.0851398 , 2.10570434, 0.02783093])\n",
      "1.1903307175248412\n",
      "longitud final: 33.60521731595714\n",
      "ferry sobra espacio\n",
      "ganancia: 141618.69562830933\n",
      "None\n",
      "     con: array([], dtype=float64)\n",
      "     fun: -195920.39093701742\n",
      " message: 'The algorithm terminated successfully and determined that the problem is infeasible.'\n",
      "     nit: 9\n",
      "   slack: array([-1.15198832e+00,  1.15198832e+00,  4.07960906e+03])\n",
      "  status: 2\n",
      " success: False\n",
      "       x: array([0.87213747, 0.01384824, 0.81702968, 4.48208829])\n",
      "0.8721374697709119\n",
      "longitud final: 50.848011679302964\n",
      "ferry sobra espacio\n",
      "ganancia: 213639.19917772137\n",
      "None\n"
     ]
    }
   ],
   "source": [
    "\n",
    "obj = [-21000,-8400,-54600,-33600]\n",
    "\n",
    "\n",
    "lhs_ineq = [[-5,-2/3,-13,-8],[5,2/3,13,8],[21000,8400,54600,33600]]\n",
    "rhs_ineq = [-48,52,200000]   \n",
    "bnd = [(0, float(\"inf\")),(0, float(\"inf\")),(0, float(\"inf\")),(0, float(\"inf\"))]\n",
    "p  = linprog(c=obj, A_ub=lhs_ineq, b_ub=rhs_ineq, bounds=bnd)\n",
    "print(p)\n",
    "print(p.x[0])\n",
    "\n",
    "print(obtenerGanancia(p.x[0],p.x[1],p.x[2],p.x[3]))\n",
    "\n",
    "\n"
   ]
  },
  {
   "cell_type": "markdown",
   "metadata": {},
   "source": [
    "# Demostración para el segundo modelo por columna\n"
   ]
  },
  {
   "cell_type": "code",
   "execution_count": 82,
   "metadata": {},
   "outputs": [
    {
     "name": "stdout",
     "output_type": "stream",
     "text": [
      "     con: array([], dtype=float64)\n",
      "     fun: -200000.00000011083\n",
      " message: 'Optimization terminated successfully.'\n",
      "     nit: 3\n",
      "   slack: array([ 1.38029239e+00,  2.61970761e+00, -1.10827386e-07])\n",
      "  status: 0\n",
      " success: True\n",
      "       x: array([1.55556067, 0.96716625, 2.32632222, 1.33944033])\n",
      "1.5555606746001747\n"
     ]
    }
   ],
   "source": [
    "obj = [-20100,-7700,-50100,-33400]\n",
    "lhs_ineq = [[-5,-2/3,-13,-8],[5,2/3,13,8],[20100,7700,50100,33400]]\n",
    "rhs_ineq = [-48,52,200000]   \n",
    "bnd = [(0, float(\"inf\")),(0, float(\"inf\")),(0, float(\"inf\")),(0, float(\"inf\"))]\n",
    "p  = linprog(c=obj, A_ub=lhs_ineq, b_ub=rhs_ineq, bounds=bnd)\n",
    "print(p)\n",
    "print(p.x[0])\n"
   ]
  },
  {
   "cell_type": "code",
   "execution_count": 8,
   "metadata": {},
   "outputs": [
    {
     "name": "stdout",
     "output_type": "stream",
     "text": [
      "fallido: 8768\n",
      "acertado: 41232\n",
      "razon = 0.21265036864571207\n",
      "20329.043999999994\n",
      "gol de maradona\n"
     ]
    }
   ],
   "source": [
    "class Auto:\n",
    "    def __init__(self,pasajeros):\n",
    "        self.pasajeros = pasajeros\n",
    "    \n",
    "    \n",
    "\n",
    "class Minibus:\n",
    "    def __init__(self,pasajeros):\n",
    "        self.pasajeros = pasajeros\n",
    "    \n",
    "\n",
    "\n",
    "    \n",
    "def obtenerGananciaRandom():\n",
    "    autos,motos,buses,minibuses = 0,0,0,0\n",
    "    objAutos = []\n",
    "    objMinibuses = []\n",
    "    cantidadVehiculos = autos+motos+buses+minibuses\n",
    "    if cantidadVehiculos == 0:\n",
    "        cantidadVehiculos = 1\n",
    "        \n",
    "    promedioAuto = 100*autos/cantidadVehiculos\n",
    "    promedioMoto = 100*motos/cantidadVehiculos\n",
    "    promedioBuses = 100*buses/cantidadVehiculos\n",
    "    promedioMinibuses = 100*minibuses/cantidadVehiculos\n",
    "    while 5*autos + 2/3*motos + 13*buses+ 8*minibuses > 52 or 5*autos + 2/3*motos + 13*buses+ 8*minibuses < 48:\n",
    "        \n",
    "        autos = random.randint(4,9)#1,10\n",
    "        motos = random.randint(0,3)#78\n",
    "        buses = random.randint(0,2)\n",
    "        minibuses = random.randint(0,2)\n",
    "        \n",
    "    else:\n",
    "        for auto in range(autos):\n",
    "            objAutos.append(Auto(random.randint(1,6)))#max = 9\n",
    "            #objAutos.append(Auto(1))\n",
    "        for minibus in range(minibuses):\n",
    "            objMinibuses.append(Minibus(random.randint(1,15)))\n",
    "            #objMinibuses.append(Minibus(1))\n",
    "        dineroExtraAutos = []\n",
    "        dineroExtraMinibuses = []\n",
    "        for auto in objAutos:\n",
    "            #print(f\"pasajeros del auto numero {objAutos.index(auto)+1}: {auto.pasajeros}\")\n",
    "            dineroExtraAutos.append(800*auto.pasajeros-500*(auto.pasajeros-1))\n",
    "        for minibus in objMinibuses:\n",
    "            #print(f\"pasajeros del minibus numero {objMinibuses.index(minibus)+1}: {minibus.pasajeros}\")\n",
    "            dineroExtraMinibuses.append(2600*minibus.pasajeros-2500*minibus.pasajeros-2500)\n",
    "        tarifaAuto = 19300\n",
    "        tarifaMoto = 7700\n",
    "        tarifaBus = 50100\n",
    "        tarifaMinibus = 30800\n",
    "        #print(f\"autos: {autos}, buses:{buses}, minibuses:{minibuses}, motos:{motos}\")\n",
    "        \n",
    "        gananciaBase = autos*tarifaAuto+motos*tarifaMoto+buses*tarifaBus+minibuses*tarifaMinibus\n",
    "        gananciaTotal = sum(dineroExtraMinibuses) + sum(dineroExtraAutos) + gananciaBase\n",
    "        #print(f\"ganancia de la columna: ${gananciaTotal}\")\n",
    "        return gananciaTotal  \n",
    "\n",
    "\n",
    "\n",
    "intentosBuenos = []\n",
    "intentosMalos = []\n",
    "ganancias = []\n",
    "for i in range(50000):\n",
    "    ganancia = obtenerGananciaRandom()\n",
    "    if ganancia < 200000:\n",
    "        intentosMalos.append(1)\n",
    "        ganancias.append(ganancia)\n",
    "\n",
    "    elif ganancia >=200000:\n",
    "        intentosBuenos.append(1)\n",
    "        ganancias.append(ganancia)\n",
    "        \n",
    "fallido = sum(intentosMalos)\n",
    "bueno = sum(intentosBuenos)\n",
    "razon = fallido/bueno\n",
    "print(f\"fallido: {fallido}\")\n",
    "print(f\"acertado: {bueno}\")\n",
    "print(f\"razon = {razon}\")\n",
    "    \n",
    "print(3*sum(ganancias)/len(ganancias)-600000)\n",
    "print(\"gol de maradona\")\n"
   ]
  },
  {
   "cell_type": "code",
   "execution_count": 6,
   "metadata": {},
   "outputs": [
    {
     "name": "stdout",
     "output_type": "stream",
     "text": [
      "Solution:\n",
      "Objective value = 190500.0\n",
      "x = 2.0\n",
      "y = 0.0\n",
      "z = 3.0\n",
      "w = 0.0\n"
     ]
    }
   ],
   "source": [
    "from __future__ import print_function\n",
    "from ortools.linear_solver import pywraplp\n",
    "\n",
    "\n",
    "solver = pywraplp.Solver.CreateSolver('SCIP')\n",
    "\n",
    "\n",
    "\n",
    "infinity = solver.infinity()\n",
    "# x and y are integer non-negative variables.\n",
    "x = solver.IntVar(0.0, infinity, 'x')\n",
    "y = solver.IntVar(0.0, infinity, 'y')\n",
    "z = solver.IntVar(0.0, infinity, 'z')\n",
    "w = solver.IntVar(0.0, infinity, 'w')\n",
    "\n",
    "\n",
    "solver.Add(20100*x + 7700 *y + 50100*z + 33400*w  >=0)\n",
    "solver.Add(-5*x-2/3*y -13*z-8*w <= -48 )\n",
    "solver.Add(5*x+2/3*y +13*z+8*w <= 52 )  \n",
    "solver.Minimize(20100*x + 7700 *y + 50100*z + 33400*w)\n",
    "status = solver.Solve()\n",
    "if status == pywraplp.Solver.OPTIMAL:\n",
    "    print('Solution:')\n",
    "    print('Objective value =', solver.Objective().Value())\n",
    "    print('x =', x.solution_value())\n",
    "    print('y =', y.solution_value())\n",
    "    print('z =', z.solution_value())\n",
    "    print('w =', w.solution_value())\n",
    "    \n",
    "else:\n",
    "    print('The problem does not have an optimal solution.')"
   ]
  },
  {
   "cell_type": "code",
   "execution_count": 11,
   "metadata": {},
   "outputs": [
    {
     "name": "stdout",
     "output_type": "stream",
     "text": [
      "Solución:\n",
      "Ganancia mínima = 201599.99999999997\n",
      "x = 0.0\n",
      "y = 0.0\n",
      "z = 0.0\n",
      "w = 6.0\n"
     ]
    }
   ],
   "source": [
    "from __future__ import print_function\n",
    "from ortools.linear_solver import pywraplp\n",
    "\n",
    "\n",
    "solver = pywraplp.Solver.CreateSolver('SCIP')\n",
    "\n",
    "infinity = solver.infinity()\n",
    "x = solver.IntVar(0.0, infinity, 'x')\n",
    "y = solver.IntVar(0.0, infinity, 'y')\n",
    "z = solver.IntVar(0.0, infinity, 'z')\n",
    "w = solver.IntVar(0.0, infinity, 'w')\n",
    "#definimos los intervalos para las variables x,y,z,w. (de cero a infinito)\n",
    "#IntVar dice que solo son números enteros.\n",
    "\n",
    "solver.Add(21000*x + 8400 *y + 54600*z + 33600*w  >= 0)\n",
    "solver.Add( -5*x-2/3*y -13*z-8*w <= -48 )\n",
    "solver.Add( 5*x+2/3*y +13*z+8*w <= 52 )  \n",
    "#inecuaciones que restringen\n",
    "solver.Minimize(21000*x + 8400 *y + 54600*z + 33600*w)\n",
    "#minimizar la función 21000*x + 8400 *y + 54600*z + 33600*w \n",
    "status = solver.Solve()\n",
    "#resolver \n",
    "if status == pywraplp.Solver.OPTIMAL: #si se encuentra una solución, entonces se dan las soluciones. \n",
    "    print('Solución:')\n",
    "    print('Ganancia mínima =', solver.Objective().Value())\n",
    "    print('x =', x.solution_value())\n",
    "    print('y =', y.solution_value())\n",
    "    print('z =', z.solution_value())\n",
    "    print('w =', w.solution_value())\n",
    "    \n",
    "else: #si no se encuentra una solución, se avisa. \n",
    "    print('El problema no tiene una solución.')"
   ]
  },
  {
   "cell_type": "code",
   "execution_count": null,
   "metadata": {},
   "outputs": [],
   "source": []
  },
  {
   "cell_type": "code",
   "execution_count": 1,
   "metadata": {},
   "outputs": [
    {
     "name": "stdout",
     "output_type": "stream",
     "text": [
      "Solution:\n",
      "Objective value = 191700.00000000003\n",
      "x = 7.0\n",
      "y = 0.0\n",
      "z = 1.0\n",
      "w = 0.0\n"
     ]
    }
   ],
   "source": [
    "from __future__ import print_function\n",
    "from ortools.linear_solver import pywraplp\n",
    "\n",
    "\n",
    "solver = pywraplp.Solver.CreateSolver('SCIP')\n",
    "\n",
    "\n",
    "\n",
    "infinity = solver.infinity()\n",
    "# x and y are integer non-negative variables.\n",
    "x = solver.IntVar(0.0, infinity, 'x')\n",
    "y = solver.IntVar(0.0, infinity, 'y')\n",
    "z = solver.IntVar(0.0, infinity, 'z')\n",
    "w = solver.IntVar(0.0, infinity, 'w')\n",
    "\n",
    "\n",
    "#solver.Add(20400*x + 8400 *y + 5400*z + 30400*w  <= 200000)\n",
    "solver.Add(20100*x + 7700 *y + 51000*z + 33400*w  <= 200000)\n",
    "solver.Add( -5*x-2/3*y -13*z-8*w <= -48 )\n",
    "solver.Add( 5*x+2/3*y +13*z+8*w <= 52 )  \n",
    "\n",
    "#solver.Minimize(20400*x + 8400 *y + 50400*z + 30400*w)\n",
    "solver.Minimize(20100*x + 7700 *y + 51000*z + 33400*w)\n",
    "status = solver.Solve()\n",
    "if status == pywraplp.Solver.OPTIMAL:\n",
    "    print('Solution:')\n",
    "    print('Objective value =', solver.Objective().Value())\n",
    "    print('x =', x.solution_value())\n",
    "    print('y =', y.solution_value())\n",
    "    print('z =', z.solution_value())\n",
    "    print('w =', w.solution_value())\n",
    "    \n",
    "else:\n",
    "    print('The problem does not have an optimal solution.')"
   ]
  },
  {
   "cell_type": "code",
   "execution_count": 9,
   "metadata": {
    "scrolled": true
   },
   "outputs": [
    {
     "name": "stdout",
     "output_type": "stream",
     "text": [
      "fallido: 5488\n",
      "acertado: 44512\n",
      "razon = 0.12329259525521208\n",
      "210611.0128\n",
      "gol de maradona\n"
     ]
    }
   ],
   "source": [
    "class Auto:\n",
    "    def __init__(self,pasajeros):\n",
    "        self.pasajeros = pasajeros\n",
    "    \n",
    "    \n",
    "\n",
    "class Minibus:\n",
    "    def __init__(self,pasajeros):\n",
    "        self.pasajeros = pasajeros\n",
    "    \n",
    "\n",
    "\n",
    "    \n",
    "def obtenerGananciaRandom():\n",
    "    autos,motos,buses,minibuses = 0,0,0,0\n",
    "    objAutos = []\n",
    "    objMinibuses = []\n",
    "    while 5*autos + 2/3*motos + 13*buses+ 8*minibuses > 52 or 5*autos + 2/3*motos + 13*buses+ 8*minibuses < 48:\n",
    "        \n",
    "        autos = random.randint(5,9)#1,10\n",
    "        motos = random.randint(0,3)#78\n",
    "        buses = random.randint(0,2)\n",
    "        minibuses = random.randint(0,2)\n",
    "        \n",
    "    else:\n",
    "        for auto in range(autos):\n",
    "            objAutos.append(Auto(random.randint(1,4)))#max = 9\n",
    "            #objAutos.append(Auto(1))\n",
    "        for minibus in range(minibuses):\n",
    "            objMinibuses.append(Minibus(random.randint(1,15)))#15\n",
    "            \n",
    "            #objMinibuses.append(Minibus(1))\n",
    "        dineroExtraAutos = []\n",
    "        dineroExtraMinibuses = []\n",
    "        for auto in objAutos:\n",
    "            #print(f\"pasajeros del auto numero {objAutos.index(auto)+1}: {auto.pasajeros}\")\n",
    "            dineroExtraAutos.append(100*(auto.pasajeros-1))\n",
    "            \n",
    "        for minibus in objMinibuses:\n",
    "            #print(f\"pasajeros del minibus numero {objMinibuses.index(minibus)+1}: {minibus.pasajeros}\")\n",
    "            dineroExtraMinibuses.append(300*(minibus.pasajeros-1))\n",
    "        tarifaAuto = 20100\n",
    "        tarifaMoto = 7700\n",
    "        tarifaBus = 50100 \n",
    "        tarifaMinibus = 33400\n",
    "        #print(f\"autos: {autos}, buses:{buses}, minibuses:{minibuses}, motos:{motos}\")\n",
    "        \n",
    "        gananciaBase = autos*tarifaAuto+motos*tarifaMoto+buses*tarifaBus+minibuses*tarifaMinibus\n",
    "        #print(gananciaBase)\n",
    "        gananciaTotal = sum(dineroExtraMinibuses) + sum(dineroExtraAutos) + gananciaBase\n",
    "        #print(f\"ganancia de la columna: ${gananciaTotal}\")\n",
    "        return gananciaTotal  \n",
    "\n",
    "\n",
    "    \n",
    "\n",
    "intentosBuenos = []\n",
    "intentosMalos = []\n",
    "ganancias = []\n",
    "for i in range(50000):\n",
    "    ganancia = obtenerGananciaRandom()\n",
    "    if ganancia < 200000:\n",
    "        intentosMalos.append(1)\n",
    "        ganancias.append(ganancia)\n",
    "\n",
    "    elif ganancia >=200000:\n",
    "        intentosBuenos.append(1)\n",
    "        ganancias.append(ganancia)\n",
    "        \n",
    "fallido = sum(intentosMalos)\n",
    "bueno = sum(intentosBuenos)\n",
    "razon = fallido/bueno\n",
    "print(f\"fallido: {fallido}\")\n",
    "print(f\"acertado: {bueno}\")\n",
    "print(f\"razon = {razon}\")\n",
    "    \n",
    "print(sum(ganancias)/len(ganancias))\n",
    "print(\"gol de maradona\")\n",
    "\n"
   ]
  },
  {
   "cell_type": "code",
   "execution_count": 4,
   "metadata": {},
   "outputs": [
    {
     "name": "stdout",
     "output_type": "stream",
     "text": [
      "fallido: 0\n",
      "acertado: 50000\n",
      "razon = 0.0\n",
      "216288.072\n",
      "gol de maradona\n"
     ]
    }
   ],
   "source": [
    "  \n",
    "\"\"\"\n",
    "función que retorna la ganancia de un trayecto con una cantidad random de vehículos, \n",
    "que llenan a una hilera.\n",
    "\n",
    "\"\"\"\n",
    "def obtenerGananciaRandom():\n",
    "    autos,motos,buses,minibuses = 0,0,0,0 \n",
    "    \n",
    "    while 5*autos + 2/3*motos + 13*buses+ 8*minibuses > 52 or 5*autos + 2/3*motos + 13*buses+ 8*minibuses < 48:\n",
    "        #asigna catidades de vehículos hasta que llenen la fila\n",
    "        autos = random.randint(5,9)#1,10\n",
    "        motos = random.randint(0,3)#78\n",
    "        buses = random.randint(0,2)\n",
    "        minibuses = random.randint(0,2)\n",
    "        \n",
    "    else:\n",
    "         \n",
    "        tarifaAuto = 21000\n",
    "        tarifaMoto = 8400\n",
    "        tarifaBus = 54600\n",
    "        tarifaMinibus = 33600\n",
    "        #calcula la ganancia\n",
    "        gananciaBase = autos*tarifaAuto+motos*tarifaMoto+buses*tarifaBus+minibuses*tarifaMinibus\n",
    "        return gananciaBase  \n",
    "\n",
    "\n",
    "    \n",
    "\n",
    "intentosBuenos = []\n",
    "intentosMalos = []\n",
    "ganancias = []\n",
    "for i in range(50000): #simula 50.000 viajes\n",
    "    ganancia = obtenerGananciaRandom()\n",
    "    if ganancia < 200000: #guarda las pérdidas\n",
    "        intentosMalos.append(1)\n",
    "        ganancias.append(ganancia)\n",
    "\n",
    "    elif ganancia >=200000: #guarda las ganancias\n",
    "        intentosBuenos.append(1)\n",
    "        ganancias.append(ganancia)\n",
    "        \n",
    "fallido = sum(intentosMalos) #suma las pérdidas\n",
    "bueno = sum(intentosBuenos) #suma las ganancias\n",
    "razon = fallido/bueno #da la razón entre pérdidas y ganancias\n",
    "print(f\"fallido: {fallido}\") \n",
    "print(f\"acertado: {bueno}\")\n",
    "print(f\"razon = {razon}\")\n",
    "    \n",
    "print(sum(ganancias)/len(ganancias)) #da el promedio entre ganancias y pérdidas por columna luego de 50.000 intentos\n",
    "\n",
    "\n"
   ]
  },
  {
   "cell_type": "code",
   "execution_count": 11,
   "metadata": {},
   "outputs": [
    {
     "name": "stdout",
     "output_type": "stream",
     "text": [
      "fallido: 9059\n",
      "acertado: 40941\n",
      "razon = 0.22126963190933294\n",
      "236201.7\n",
      "gol de maradona\n"
     ]
    }
   ],
   "source": [
    "\n",
    "\n",
    "    \n",
    "def obtenerGananciaRandom():\n",
    "    autos,motos,buses,minibuses = 0,0,0,0\n",
    "    a,m,b,n= random.randint(3,6),random.randint(1,3),random.randint(11,13),random.randint(7,10)\n",
    "    while a*autos + 2/3*m*motos + b*buses+ n*minibuses > 52 or a*autos + 2/3*m*motos + b*buses+ n*minibuses < 48:\n",
    "        \n",
    "        autos = random.randint(5,9)#1,10\n",
    "        motos = random.randint(0,3)#78\n",
    "        buses = random.randint(0,2)\n",
    "        minibuses = random.randint(0,2)\n",
    "        a,m,b,n= random.randint(3,6),random.randint(1,3),random.randint(11,13),random.randint(7,10)\n",
    "        \n",
    "    else:\n",
    "         \n",
    "        tarifaAuto = 21000\n",
    "        tarifaMoto = 8400\n",
    "        tarifaBus = 54600\n",
    "        tarifaMinibus = 33600\n",
    "        #print(f\"autos: {autos}, buses:{buses}, minibuses:{minibuses}, motos:{motos}\")\n",
    "        gananciaBase = autos*tarifaAuto+motos*tarifaMoto+buses*tarifaBus+minibuses*tarifaMinibus\n",
    "        return gananciaBase  \n",
    "\n",
    "\n",
    "    \n",
    "\n",
    "intentosBuenos = []\n",
    "intentosMalos = []\n",
    "ganancias = []\n",
    "for i in range(50000):\n",
    "    ganancia = obtenerGananciaRandom()\n",
    "    if ganancia < 200000:\n",
    "        intentosMalos.append(1)\n",
    "        ganancias.append(ganancia)\n",
    "\n",
    "    elif ganancia >=200000:\n",
    "        intentosBuenos.append(1)\n",
    "        ganancias.append(ganancia)\n",
    "        \n",
    "fallido = sum(intentosMalos)\n",
    "bueno = sum(intentosBuenos)\n",
    "razon = fallido/bueno\n",
    "print(f\"fallido: {fallido}\")\n",
    "print(f\"acertado: {bueno}\")\n",
    "print(f\"razon = {razon}\")\n",
    "    \n",
    "print(sum(ganancias)/len(ganancias))\n",
    "print(\"gol de maradona\")\n"
   ]
  },
  {
   "cell_type": "code",
   "execution_count": 12,
   "metadata": {},
   "outputs": [
    {
     "name": "stdout",
     "output_type": "stream",
     "text": [
      "fallido: 8462\n",
      "acertado: 41538\n",
      "razon = 0.20371707833790745\n",
      "207502.918\n",
      "gol de maradona\n"
     ]
    }
   ],
   "source": [
    "import random \n",
    "class Auto:\n",
    "    def __init__(self,pasajeros):\n",
    "        self.pasajeros = pasajeros\n",
    "\"\"\"\n",
    "Define a un auto, que tendrá como atributo su cantidad de pasajeros\n",
    "\n",
    "\"\"\"\n",
    "    \n",
    "def obtenerGananciaRandom(): \n",
    "#esta función nos da la ganancia por viaje, con una cantidad random de vehículos, pero que llenen la columna\n",
    "    autos,motos,buses,minibuses = 0,0,0,0 \n",
    "    objAutos = []\n",
    "    while 5*autos + 2/3*motos + 13*buses+ 8*minibuses > 52 or 5*autos + 2/3*motos + 13*buses+ 8*minibuses < 48:\n",
    "        #asigna valores random a los vehículos hasta que llenen la columna\n",
    "        autos = random.randint(5,9)#1,10\n",
    "        motos = random.randint(0,3)#78\n",
    "        buses = random.randint(0,2)\n",
    "        minibuses = random.randint(0,2)\n",
    "        \n",
    "    else:\n",
    "        for auto in range(autos):\n",
    "            objAutos.append(Auto(random.randint(1,5)))#max = 9\n",
    "         #le asigna una cantidad random de pasajeros a los autos, pero acotada de 1 a 5\n",
    "        dineroExtraAutos = []\n",
    "        for auto in objAutos:\n",
    "            dineroExtraAutos.append(500*(auto.pasajeros-1))\n",
    "        #calcula el cobro extra para cada auto dependiendo de su numero de pasajeros\n",
    "        tarifaAuto = 19300\n",
    "        tarifaMoto = 7700\n",
    "        tarifaBus = 50100 \n",
    "        tarifaMinibus = 33400\n",
    "       \n",
    "        \n",
    "        gananciaBase = autos*tarifaAuto+motos*tarifaMoto+buses*tarifaBus+minibuses*tarifaMinibus\n",
    "       #ganancia no incluuye a lo extra de los autos\n",
    "        gananciaTotal = sum(dineroExtraAutos) + gananciaBase\n",
    "        #ganancia si incluuye a lo extra de los autos\n",
    "        return gananciaTotal  \n",
    "\n",
    "\n",
    "    \n",
    "\n",
    "intentosBuenos = []\n",
    "intentosMalos = []\n",
    "ganancias = []\n",
    "for i in range(50000): #hace 50.000 viajes\n",
    "    ganancia = obtenerGananciaRandom()\n",
    "    if ganancia < 200000: #guarda los intentos que dan pérdidas\n",
    "        intentosMalos.append(1)\n",
    "        ganancias.append(ganancia)\n",
    "\n",
    "    elif ganancia >=200000: #guarda los intentos que dan ganancias\n",
    "        intentosBuenos.append(1)\n",
    "        ganancias.append(ganancia)\n",
    "        \n",
    "fallido = sum(intentosMalos) #suma pérdidas\n",
    "bueno = sum(intentosBuenos) #suma ganancias\n",
    "razon = fallido/bueno    #razón entre pérdidas y ganancias\n",
    "print(f\"fallido: {fallido}\") \n",
    "print(f\"acertado: {bueno}\")\n",
    "print(f\"razon = {razon}\")\n",
    "    \n",
    "print(sum(ganancias)/len(ganancias))\n",
    "\n"
   ]
  },
  {
   "cell_type": "code",
   "execution_count": 13,
   "metadata": {},
   "outputs": [
    {
     "name": "stdout",
     "output_type": "stream",
     "text": [
      "fallido: 173\n",
      "acertado: 827\n",
      "razon = 0.20918984280532044\n",
      "promedio de las ganancias: 207708.1\n",
      "desviación estándar: 7542.840236199414\n",
      "Ganancia máxima: 224400\n",
      "Ganancia mínima: 188700\n"
     ]
    },
    {
     "data": {
      "image/png": "[encoded data removed]",
      "text/plain": [
       "<Figure size 432x288 with 1 Axes>"
      ]
     },
     "metadata": {
      "needs_background": "light"
     },
     "output_type": "display_data"
    }
   ],
   "source": [
    "import matplotlib.pyplot as plt\n",
    "import random \n",
    "import time \n",
    "import statistics \n",
    "import numpy as np\n",
    "\n",
    "\n",
    "class Auto:\n",
    "    def __init__(self,pasajeros):\n",
    "        self.pasajeros = pasajeros\n",
    "\"\"\"\n",
    "Define a un auto, que tendrá como atributo su cantidad de pasajeros\n",
    "\n",
    "\"\"\"\n",
    "    \n",
    "def obtenerGananciaRandom2(): \n",
    "#esta función nos da la ganancia por viaje, con una cantidad random de vehículos, pero que llenen la columna\n",
    "    autos,motos,buses,minibuses = 0,0,0,0 \n",
    "    objAutos = []\n",
    "    while 5*autos + 2/3*motos + 13*buses+ 8*minibuses > 52 or 5*autos + 2/3*motos + 13*buses+ 8*minibuses < 48:\n",
    "        #asigna valores random a los vehículos hasta que llenen la columna\n",
    "        autos = random.randint(5,9)#1,10\n",
    "        motos = random.randint(0,3)#78\n",
    "        buses = random.randint(0,2)\n",
    "        minibuses = random.randint(0,2)\n",
    "        \n",
    "    else:\n",
    "        for auto in range(autos):\n",
    "            objAutos.append(Auto(random.randint(1,5)))#max = 9\n",
    "         #le asigna una cantidad random de pasajeros a los autos, pero acotada de 1 a 5\n",
    "        dineroExtraAutos = []\n",
    "        for auto in objAutos:\n",
    "            dineroExtraAutos.append(500*(auto.pasajeros-1))\n",
    "        #calcula el cobro extra para cada auto dependiendo de su numero de pasajeros\n",
    "        tarifaAuto = 19300\n",
    "        tarifaMoto = 7700\n",
    "        tarifaBus = 50100 \n",
    "        tarifaMinibus = 33400\n",
    "       \n",
    "        \n",
    "        gananciaBase = autos*tarifaAuto+motos*tarifaMoto+buses*tarifaBus+minibuses*tarifaMinibus\n",
    "       #ganancia no incluuye a lo extra de los autos\n",
    "        gananciaTotal = sum(dineroExtraAutos) + gananciaBase\n",
    "        #ganancia si incluuye a lo extra de los autos\n",
    "        return gananciaTotal  \n",
    "\n",
    "\n",
    "    \n",
    "\n",
    "intentosBuenos = []\n",
    "intentosMalos = []\n",
    "ganancias = []\n",
    "for i in range(1000): #hace 50.000 viajes\n",
    "    ganancia = obtenerGananciaRandom2()\n",
    "    if ganancia < 200000: #guarda los intentos que dan pérdidas\n",
    "        intentosMalos.append(1)\n",
    "        ganancias.append(ganancia)\n",
    "\n",
    "    elif ganancia >=200000: #guarda los intentos que dan ganancias\n",
    "        intentosBuenos.append(1)\n",
    "        ganancias.append(ganancia)\n",
    "        \n",
    "fallido = sum(intentosMalos) #suma pérdidas\n",
    "bueno = sum(intentosBuenos) #suma ganancias\n",
    "razon = fallido/bueno    #razón entre pérdidas y ganancias\n",
    "print(f\"fallido: {fallido}\") \n",
    "print(f\"acertado: {bueno}\")\n",
    "print(f\"razon = {razon}\")\n",
    "    \n",
    "print(\"promedio de las ganancias: \"+str(statistics.mean(ganancias)))\n",
    "print(\"desviación estándar: \"+str(statistics.stdev(ganancias)))\n",
    "print(f\"Ganancia máxima: {max(ganancias)}\")\n",
    "print(f\"Ganancia mínima: {min(ganancias)}\")\n",
    "mu, sigma = statistics.mean(ganancias), statistics.stdev(ganancias)\n",
    "s = np.random.normal(mu, sigma, 1000)#para usar desviación estándar debería poder entender lo que las constantes en\n",
    "#estas lineas funcionan (el 1000, el 80)\n",
    "count, bins, ignored = plt.hist(s, 30, density=True)#el 15 representa la frecuencia\n",
    "plt.plot(bins, 1/(sigma * np.sqrt(2 * np.pi)) *np.exp( - (bins - mu)**2 / (2 * sigma**2) ),linewidth=2, color='r')\n",
    "plt.show()\n"
   ]
  }
 ],
 "metadata": {
  "kernelspec": {
   "display_name": "Python 3",
   "language": "python",
   "name": "python3"
  },
  "language_info": {
   "codemirror_mode": {
    "name": "ipython",
    "version": 3
   },
   "file_extension": ".py",
   "mimetype": "text/x-python",
   "name": "python",
   "nbconvert_exporter": "python",
   "pygments_lexer": "ipython3",
   "version": "3.7.6"
  }
 },
 "nbformat": 4,
 "nbformat_minor": 4
}
